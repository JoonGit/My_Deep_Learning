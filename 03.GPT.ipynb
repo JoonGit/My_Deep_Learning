{
 "cells": [
  {
   "cell_type": "code",
   "execution_count": 45,
   "id": "13469e58",
   "metadata": {},
   "outputs": [],
   "source": [
    "import pandas as pd\n",
    "import numpy as np\n",
    "import urllib.request\n",
    "import os\n",
    "import matplotlib.pyplot as plt\n",
    "import tensorflow as tf\n",
    "from transformers import AutoTokenizer, TFGPT2Model\n",
    "from tensorflow.keras.preprocessing.sequence import pad_sequences\n",
    "from sklearn.model_selection import train_test_split\n",
    "from tensorflow.keras.callbacks import EarlyStopping, ModelCheckpoint\n",
    "from tqdm import tqdm"
   ]
  },
  {
   "cell_type": "code",
   "execution_count": 2,
   "id": "b8faab7f",
   "metadata": {},
   "outputs": [],
   "source": [
    "total_dataset = pd.read_csv(\"train.csv\")\n",
    "test_dataset = pd.read_csv(\"test.csv\")"
   ]
  },
  {
   "cell_type": "code",
   "execution_count": 3,
   "id": "716dda49",
   "metadata": {
    "scrolled": true
   },
   "outputs": [
    {
     "data": {
      "text/html": [
       "<div>\n",
       "<style scoped>\n",
       "    .dataframe tbody tr th:only-of-type {\n",
       "        vertical-align: middle;\n",
       "    }\n",
       "\n",
       "    .dataframe tbody tr th {\n",
       "        vertical-align: top;\n",
       "    }\n",
       "\n",
       "    .dataframe thead th {\n",
       "        text-align: right;\n",
       "    }\n",
       "</style>\n",
       "<table border=\"1\" class=\"dataframe\">\n",
       "  <thead>\n",
       "    <tr style=\"text-align: right;\">\n",
       "      <th></th>\n",
       "      <th>text</th>\n",
       "      <th>category</th>\n",
       "    </tr>\n",
       "  </thead>\n",
       "  <tbody>\n",
       "    <tr>\n",
       "      <th>0</th>\n",
       "      <td>이에 따른다면 초등학생들의 소비 문화는 디지털 강국의 ‘개국 공신’이 되려는 몸부림...</td>\n",
       "      <td>연예/문화</td>\n",
       "    </tr>\n",
       "    <tr>\n",
       "      <th>1</th>\n",
       "      <td>\"지난 14일 우리정부가 난민 신청을 한 예멘인들에 대해 인도적 체류를 허가했는데요...</td>\n",
       "      <td>연예/문화</td>\n",
       "    </tr>\n",
       "    <tr>\n",
       "      <th>2</th>\n",
       "      <td>인천시 서구와 계양구에서 경기도 부천을 거쳐 서울 홍대까지 지하철이 건설될 것으로 ...</td>\n",
       "      <td>생활</td>\n",
       "    </tr>\n",
       "    <tr>\n",
       "      <th>3</th>\n",
       "      <td>김성태 자유한국당 의원이 최근 황운하 울산경찰청장과 벌인 ‘미친개’ 공방을 언급하며...</td>\n",
       "      <td>정치</td>\n",
       "    </tr>\n",
       "    <tr>\n",
       "      <th>4</th>\n",
       "      <td>\"지난해 사상 최대 실적을 거뒀던 우리 수출이 새해에도 좋은 흐름을 이어갔습니다. ...</td>\n",
       "      <td>스포츠</td>\n",
       "    </tr>\n",
       "  </tbody>\n",
       "</table>\n",
       "</div>"
      ],
      "text/plain": [
       "                                                text category\n",
       "0  이에 따른다면 초등학생들의 소비 문화는 디지털 강국의 ‘개국 공신’이 되려는 몸부림...    연예/문화\n",
       "1  \"지난 14일 우리정부가 난민 신청을 한 예멘인들에 대해 인도적 체류를 허가했는데요...    연예/문화\n",
       "2  인천시 서구와 계양구에서 경기도 부천을 거쳐 서울 홍대까지 지하철이 건설될 것으로 ...       생활\n",
       "3  김성태 자유한국당 의원이 최근 황운하 울산경찰청장과 벌인 ‘미친개’ 공방을 언급하며...       정치\n",
       "4  \"지난해 사상 최대 실적을 거뒀던 우리 수출이 새해에도 좋은 흐름을 이어갔습니다. ...      스포츠"
      ]
     },
     "execution_count": 3,
     "metadata": {},
     "output_type": "execute_result"
    }
   ],
   "source": [
    "total_dataset.head()"
   ]
  },
  {
   "cell_type": "code",
   "execution_count": 4,
   "id": "0d7027a2",
   "metadata": {},
   "outputs": [
    {
     "data": {
      "text/plain": [
       "37648"
      ]
     },
     "execution_count": 4,
     "metadata": {},
     "output_type": "execute_result"
    }
   ],
   "source": [
    "len(total_dataset)"
   ]
  },
  {
   "cell_type": "code",
   "execution_count": 5,
   "id": "b8ea0343",
   "metadata": {},
   "outputs": [
    {
     "data": {
      "text/plain": [
       "3103"
      ]
     },
     "execution_count": 5,
     "metadata": {},
     "output_type": "execute_result"
    }
   ],
   "source": [
    "len(test_dataset)"
   ]
  },
  {
   "cell_type": "code",
   "execution_count": 6,
   "id": "f62ac253",
   "metadata": {},
   "outputs": [
    {
     "data": {
      "text/plain": [
       "35837"
      ]
     },
     "execution_count": 6,
     "metadata": {},
     "output_type": "execute_result"
    }
   ],
   "source": [
    "total_dataset[\"text\"].nunique()"
   ]
  },
  {
   "cell_type": "code",
   "execution_count": 7,
   "id": "92e5647b",
   "metadata": {},
   "outputs": [],
   "source": [
    "total_dataset.drop_duplicates(subset=['text'], inplace=True)"
   ]
  },
  {
   "cell_type": "code",
   "execution_count": 8,
   "id": "2d25108f",
   "metadata": {},
   "outputs": [
    {
     "data": {
      "text/html": [
       "<div>\n",
       "<style scoped>\n",
       "    .dataframe tbody tr th:only-of-type {\n",
       "        vertical-align: middle;\n",
       "    }\n",
       "\n",
       "    .dataframe tbody tr th {\n",
       "        vertical-align: top;\n",
       "    }\n",
       "\n",
       "    .dataframe thead th {\n",
       "        text-align: right;\n",
       "    }\n",
       "</style>\n",
       "<table border=\"1\" class=\"dataframe\">\n",
       "  <thead>\n",
       "    <tr style=\"text-align: right;\">\n",
       "      <th></th>\n",
       "      <th>category</th>\n",
       "      <th>count</th>\n",
       "    </tr>\n",
       "  </thead>\n",
       "  <tbody>\n",
       "    <tr>\n",
       "      <th>0</th>\n",
       "      <td>경제</td>\n",
       "      <td>3659</td>\n",
       "    </tr>\n",
       "    <tr>\n",
       "      <th>1</th>\n",
       "      <td>사회</td>\n",
       "      <td>5471</td>\n",
       "    </tr>\n",
       "    <tr>\n",
       "      <th>2</th>\n",
       "      <td>생활</td>\n",
       "      <td>4956</td>\n",
       "    </tr>\n",
       "    <tr>\n",
       "      <th>3</th>\n",
       "      <td>스포츠</td>\n",
       "      <td>4347</td>\n",
       "    </tr>\n",
       "    <tr>\n",
       "      <th>4</th>\n",
       "      <td>연예/문화</td>\n",
       "      <td>10278</td>\n",
       "    </tr>\n",
       "    <tr>\n",
       "      <th>5</th>\n",
       "      <td>정치</td>\n",
       "      <td>7126</td>\n",
       "    </tr>\n",
       "  </tbody>\n",
       "</table>\n",
       "</div>"
      ],
      "text/plain": [
       "  category  count\n",
       "0       경제   3659\n",
       "1       사회   5471\n",
       "2       생활   4956\n",
       "3      스포츠   4347\n",
       "4    연예/문화  10278\n",
       "5       정치   7126"
      ]
     },
     "execution_count": 8,
     "metadata": {},
     "output_type": "execute_result"
    }
   ],
   "source": [
    "total_dataset.groupby('category').size().reset_index(name = 'count')"
   ]
  },
  {
   "cell_type": "code",
   "execution_count": 9,
   "id": "24f6fb47",
   "metadata": {
    "scrolled": false
   },
   "outputs": [
    {
     "data": {
      "text/plain": [
       "text        0\n",
       "category    0\n",
       "dtype: int64"
      ]
     },
     "execution_count": 9,
     "metadata": {},
     "output_type": "execute_result"
    }
   ],
   "source": [
    "total_dataset.isnull().sum()"
   ]
  },
  {
   "cell_type": "code",
   "execution_count": 10,
   "id": "2d930006",
   "metadata": {},
   "outputs": [
    {
     "name": "stdout",
     "output_type": "stream",
     "text": [
      "훈련용 리뷰의 개수 : 26877\n",
      "테스트용 리뷰의 개수 : 8960\n"
     ]
    }
   ],
   "source": [
    "train_data, test_data = train_test_split(total_dataset, test_size = 0.25, random_state = 42)\n",
    "print('훈련용 리뷰의 개수 :', len(train_data))\n",
    "print('테스트용 리뷰의 개수 :', len(test_data))"
   ]
  },
  {
   "cell_type": "code",
   "execution_count": 11,
   "id": "c331dad9",
   "metadata": {
    "scrolled": false
   },
   "outputs": [
    {
     "name": "stderr",
     "output_type": "stream",
     "text": [
      "C:\\Users\\JH\\AppData\\Local\\Temp\\ipykernel_17144\\494860855.py:1: FutureWarning: The default value of regex will change from True to False in a future version.\n",
      "  train_data['text'] = train_data['text'].str.replace(\"[^ㄱ-ㅎㅏ-ㅣ가-힇 ]\",\"\")\n",
      "C:\\Users\\JH\\AppData\\Local\\Temp\\ipykernel_17144\\494860855.py:2: FutureWarning: The default value of regex will change from True to False in a future version.\n",
      "  test_data['text'] = test_data['text'].str.replace(\"[^ㄱ-ㅎㅏ-ㅣ가-힇 ]\",\"\")\n"
     ]
    }
   ],
   "source": [
    "train_data['text'] = train_data['text'].str.replace(\"[^ㄱ-ㅎㅏ-ㅣ가-힇 ]\",\"\")\n",
    "test_data['text'] = test_data['text'].str.replace(\"[^ㄱ-ㅎㅏ-ㅣ가-힇 ]\",\"\")"
   ]
  },
  {
   "cell_type": "code",
   "execution_count": 12,
   "id": "bc89f9d3",
   "metadata": {},
   "outputs": [],
   "source": [
    "labels = ['경제','사회','생활','스포츠','연예/문화','정치']\n",
    "num = 0\n",
    "for label in labels:\n",
    "    train_data['category'].replace(label, num, inplace=True)\n",
    "    test_data['category'].replace(label, num, inplace=True)\n",
    "    num += 1"
   ]
  },
  {
   "cell_type": "code",
   "execution_count": 13,
   "id": "4faaf092",
   "metadata": {
    "scrolled": false
   },
   "outputs": [
    {
     "name": "stderr",
     "output_type": "stream",
     "text": [
      "Special tokens have been added in the vocabulary, make sure the associated word embeddings are fine-tuned or trained.\n"
     ]
    }
   ],
   "source": [
    "tokenizer = AutoTokenizer.from_pretrained('skt/kogpt2-base-v2', bos_token='</s>', eos_token='</s>', pad_token='<pad>')"
   ]
  },
  {
   "cell_type": "code",
   "execution_count": 14,
   "id": "c384d11d",
   "metadata": {},
   "outputs": [],
   "source": [
    "stopwords = pd.read_table(\"한국어불용어100.txt\")\n",
    "stopwords_ko = stopwords['이'].values\n",
    "stopwords_ko = np.append(stopwords_ko, '이')"
   ]
  },
  {
   "cell_type": "code",
   "execution_count": 15,
   "id": "4a348ebd",
   "metadata": {},
   "outputs": [],
   "source": [
    "# '_' 가 붙은 토큰을 위해 추가적인 불용어 추가\n",
    "for word in stopwords_ko:\n",
    "    text = \"_\"+word\n",
    "    stopwords_ko = np.append(stopwords_ko, text)"
   ]
  },
  {
   "cell_type": "code",
   "execution_count": 16,
   "id": "ed9b546e",
   "metadata": {},
   "outputs": [],
   "source": [
    "max_seq_len = 640"
   ]
  },
  {
   "cell_type": "code",
   "execution_count": 17,
   "id": "511b19e0",
   "metadata": {},
   "outputs": [],
   "source": [
    "def Tokenizer(text, category, max_seq_len, tokenizer):\n",
    "\n",
    "    input_ids, data_labels = [], []\n",
    "    \n",
    "    for example, label in tqdm(zip(text, category), total=len(text)):\n",
    "\n",
    "        bos_token = [tokenizer.bos_token]\n",
    "        eos_token = [tokenizer.eos_token]\n",
    "        tokens = bos_token + tokenizer.tokenize(example) + eos_token\n",
    "        stopwords_removed_sentence = [word for word in tokens if not word in stopwords_ko]\n",
    "        input_id = tokenizer.convert_tokens_to_ids(stopwords_removed_sentence)\n",
    "        input_id = pad_sequences([input_id], maxlen=max_seq_len, value=tokenizer.pad_token_id, padding='post')[0]\n",
    "\n",
    "        assert len(input_id) == max_seq_len, \"Error with input length {} vs {}\".format(len(input_id), max_seq_len)\n",
    "        input_ids.append(input_id)\n",
    "        data_labels.append(label)\n",
    "\n",
    "    input_ids = np.array(input_ids, dtype=int)\n",
    "    data_labels = np.asarray(data_labels, dtype=np.int32)\n",
    "\n",
    "    return input_ids, data_labels"
   ]
  },
  {
   "cell_type": "code",
   "execution_count": 18,
   "id": "9599f7bf",
   "metadata": {
    "scrolled": false
   },
   "outputs": [
    {
     "name": "stderr",
     "output_type": "stream",
     "text": [
      "100%|███████████████████████████████████████████████████████████████████████████| 26877/26877 [01:21<00:00, 328.79it/s]\n"
     ]
    }
   ],
   "source": [
    "train_X, train_y = Tokenizer(train_data['text'], train_data['category'], max_seq_len=max_seq_len, tokenizer=tokenizer)"
   ]
  },
  {
   "cell_type": "code",
   "execution_count": 19,
   "id": "6d1fa7d2",
   "metadata": {
    "scrolled": true
   },
   "outputs": [
    {
     "name": "stderr",
     "output_type": "stream",
     "text": [
      "100%|█████████████████████████████████████████████████████████████████████████████| 8960/8960 [00:26<00:00, 333.03it/s]\n"
     ]
    }
   ],
   "source": [
    "test_X, test_y = Tokenizer(test_data['text'], test_data['category'], max_seq_len=max_seq_len, tokenizer=tokenizer)"
   ]
  },
  {
   "cell_type": "code",
   "execution_count": 22,
   "id": "ef709659",
   "metadata": {},
   "outputs": [],
   "source": [
    "def Tokenizer_testdata(text, max_seq_len, tokenizer):\n",
    "\n",
    "    input_ids = []\n",
    "    \n",
    "    for example in tqdm(text):\n",
    "\n",
    "        bos_token = [tokenizer.bos_token]\n",
    "        eos_token = [tokenizer.eos_token]\n",
    "        tokens = bos_token + tokenizer.tokenize(example) + eos_token\n",
    "        stopwords_removed_sentence = [word for word in tokens if not word in stopwords_ko]\n",
    "        input_id = tokenizer.convert_tokens_to_ids(stopwords_removed_sentence)\n",
    "        input_id = pad_sequences([input_id], maxlen=max_seq_len, value=tokenizer.pad_token_id, padding='post')[0]\n",
    "\n",
    "        assert len(input_id) == max_seq_len, \"Error with input length {} vs {}\".format(len(input_id), max_seq_len)\n",
    "        input_ids.append(input_id)\n",
    "        \n",
    "\n",
    "    input_ids = np.array(input_ids, dtype=int)\n",
    "\n",
    "    return input_ids"
   ]
  },
  {
   "cell_type": "code",
   "execution_count": 23,
   "id": "a7aee8a5",
   "metadata": {},
   "outputs": [
    {
     "name": "stderr",
     "output_type": "stream",
     "text": [
      "100%|█████████████████████████████████████████████████████████████████████████████| 3103/3103 [00:09<00:00, 315.89it/s]\n"
     ]
    }
   ],
   "source": [
    "X_test = Tokenizer_testdata(test_dataset['text'], max_seq_len=max_seq_len, tokenizer=tokenizer)"
   ]
  },
  {
   "cell_type": "code",
   "execution_count": 24,
   "id": "4d1ed085",
   "metadata": {},
   "outputs": [],
   "source": [
    "from sklearn import preprocessing"
   ]
  },
  {
   "cell_type": "code",
   "execution_count": 26,
   "id": "e715894d",
   "metadata": {},
   "outputs": [
    {
     "name": "stderr",
     "output_type": "stream",
     "text": [
      "Some weights of the PyTorch model were not used when initializing the TF 2.0 model TFGPT2Model: ['transformer.h.7.attn.masked_bias', 'transformer.h.10.attn.masked_bias', 'transformer.h.11.attn.masked_bias', 'transformer.h.4.attn.masked_bias', 'transformer.h.3.attn.masked_bias', 'transformer.h.6.attn.masked_bias', 'transformer.h.0.attn.masked_bias', 'transformer.h.5.attn.masked_bias', 'transformer.h.8.attn.masked_bias', 'transformer.h.2.attn.masked_bias', 'lm_head.weight', 'transformer.h.1.attn.masked_bias', 'transformer.h.9.attn.masked_bias']\n",
      "- This IS expected if you are initializing TFGPT2Model from a PyTorch model trained on another task or with another architecture (e.g. initializing a TFBertForSequenceClassification model from a BertForPreTraining model).\n",
      "- This IS NOT expected if you are initializing TFGPT2Model from a PyTorch model that you expect to be exactly identical (e.g. initializing a TFBertForSequenceClassification model from a BertForSequenceClassification model).\n",
      "All the weights of TFGPT2Model were initialized from the PyTorch model.\n",
      "If your task is similar to the task the model of the checkpoint was trained on, you can already use TFGPT2Model for predictions without further training.\n"
     ]
    }
   ],
   "source": [
    "#GPT 모델 불러오기\n",
    "model = TFGPT2Model.from_pretrained('skt/kogpt2-base-v2', from_pt=True)"
   ]
  },
  {
   "cell_type": "code",
   "execution_count": 27,
   "id": "9efbec9c",
   "metadata": {
    "scrolled": true
   },
   "outputs": [
    {
     "name": "stdout",
     "output_type": "stream",
     "text": [
      "WARNING:tensorflow:The parameters `output_attentions`, `output_hidden_states` and `use_cache` cannot be updated when calling a model.They have to be set to True/False in the config object (i.e.: `config=XConfig.from_pretrained('name', output_attentions=True)`).\n",
      "WARNING:tensorflow:AutoGraph could not transform <bound method Socket.send of <zmq.Socket(zmq.PUSH) at 0x227a3d864c0>> and will run it as-is.\n",
      "Please report this to the TensorFlow team. When filing the bug, set the verbosity to 10 (on Linux, `export AUTOGRAPH_VERBOSITY=10`) and attach the full output.\n",
      "Cause: module, class, method, function, traceback, frame, or code object was expected, got cython_function_or_method\n",
      "To silence this warning, decorate the function with @tf.autograph.experimental.do_not_convert\n",
      "WARNING: AutoGraph could not transform <bound method Socket.send of <zmq.Socket(zmq.PUSH) at 0x227a3d864c0>> and will run it as-is.\n",
      "Please report this to the TensorFlow team. When filing the bug, set the verbosity to 10 (on Linux, `export AUTOGRAPH_VERBOSITY=10`) and attach the full output.\n",
      "Cause: module, class, method, function, traceback, frame, or code object was expected, got cython_function_or_method\n",
      "To silence this warning, decorate the function with @tf.autograph.experimental.do_not_convert\n",
      "WARNING:tensorflow:The parameter `return_dict` cannot be set in graph mode and will always be set to `True`.\n"
     ]
    }
   ],
   "source": [
    "input_ids_layer = tf.keras.layers.Input(shape=(max_seq_len,), dtype=tf.int32)\n",
    "outputs = model([input_ids_layer])"
   ]
  },
  {
   "cell_type": "code",
   "execution_count": 28,
   "id": "20777c1b",
   "metadata": {},
   "outputs": [],
   "source": [
    "class TFGPT2ForSequenceClassification(tf.keras.Model):\n",
    "    def __init__(self, model_name, num_labels):\n",
    "        super(TFGPT2ForSequenceClassification, self).__init__()\n",
    "        self.gpt = TFGPT2Model.from_pretrained(model_name, from_pt=True)\n",
    "        self.classifier = tf.keras.layers.Dense(num_labels,\n",
    "                                                kernel_initializer=tf.keras.initializers.TruncatedNormal(0.02),\n",
    "                                                activation='softmax',\n",
    "                                                name='classifier')\n",
    "\n",
    "    def call(self, inputs):\n",
    "        outputs = self.gpt(input_ids=inputs)\n",
    "        cls_token = outputs[0][:, -1]\n",
    "        prediction = self.classifier(cls_token)\n",
    "\n",
    "        return prediction"
   ]
  },
  {
   "cell_type": "code",
   "execution_count": 29,
   "id": "50cc8334",
   "metadata": {
    "scrolled": false
   },
   "outputs": [
    {
     "name": "stderr",
     "output_type": "stream",
     "text": [
      "Some weights of the PyTorch model were not used when initializing the TF 2.0 model TFGPT2Model: ['transformer.h.7.attn.masked_bias', 'transformer.h.10.attn.masked_bias', 'transformer.h.11.attn.masked_bias', 'transformer.h.4.attn.masked_bias', 'transformer.h.3.attn.masked_bias', 'transformer.h.6.attn.masked_bias', 'transformer.h.0.attn.masked_bias', 'transformer.h.5.attn.masked_bias', 'transformer.h.8.attn.masked_bias', 'transformer.h.2.attn.masked_bias', 'lm_head.weight', 'transformer.h.1.attn.masked_bias', 'transformer.h.9.attn.masked_bias']\n",
      "- This IS expected if you are initializing TFGPT2Model from a PyTorch model trained on another task or with another architecture (e.g. initializing a TFBertForSequenceClassification model from a BertForPreTraining model).\n",
      "- This IS NOT expected if you are initializing TFGPT2Model from a PyTorch model that you expect to be exactly identical (e.g. initializing a TFBertForSequenceClassification model from a BertForSequenceClassification model).\n",
      "All the weights of TFGPT2Model were initialized from the PyTorch model.\n",
      "If your task is similar to the task the model of the checkpoint was trained on, you can already use TFGPT2Model for predictions without further training.\n"
     ]
    }
   ],
   "source": [
    "model = TFGPT2ForSequenceClassification(\"skt/kogpt2-base-v2\", num_labels=6)\n",
    "optimizer = tf.keras.optimizers.Adam(learning_rate=5e-5)\n",
    "loss = tf.keras.losses.SparseCategoricalCrossentropy()\n",
    "model.compile(optimizer=optimizer, loss=loss, metrics = ['accuracy'])"
   ]
  },
  {
   "cell_type": "code",
   "execution_count": 30,
   "id": "0896ab66",
   "metadata": {},
   "outputs": [],
   "source": [
    "import tensorflow_addons"
   ]
  },
  {
   "cell_type": "code",
   "execution_count": 43,
   "id": "b780b8f9",
   "metadata": {
    "scrolled": true
   },
   "outputs": [
    {
     "name": "stdout",
     "output_type": "stream",
     "text": [
      "13439/13439 [==============================] - ETA: 0s - loss: 0.6247 - accuracy: 0.7903WARNING:tensorflow:The parameters `output_attentions`, `output_hidden_states` and `use_cache` cannot be updated when calling a model.They have to be set to True/False in the config object (i.e.: `config=XConfig.from_pretrained('name', output_attentions=True)`).\n",
      "WARNING:tensorflow:The parameter `return_dict` cannot be set in graph mode and will always be set to `True`.\n",
      "WARNING:tensorflow:Can save best model only with val_acc available, skipping.\n",
      "13439/13439 [==============================] - 3947s 294ms/step - loss: 0.6247 - accuracy: 0.7903 - val_loss: 0.4986 - val_accuracy: 0.8358\n"
     ]
    }
   ],
   "source": [
    "es = EarlyStopping(\n",
    "    monitor=\"val_accuracy\", \n",
    "    min_delta=0.001,\n",
    "    \n",
    "    patience=2)\n",
    "\n",
    "mc = ModelCheckpoint('best_model3.h5', monitor='val_acc', mode='max', verbose=1, save_best_only=True)\n",
    "\n",
    "history = model.fit(\n",
    "    train_X, train_y, epochs=1, batch_size=2, validation_data=(test_X, test_y),\n",
    "    callbacks=[es, mc]\n",
    ")"
   ]
  },
  {
   "cell_type": "code",
   "execution_count": 46,
   "id": "06e4fbd9",
   "metadata": {},
   "outputs": [
    {
     "data": {
      "image/png": "[encoded data removed]",
      "text/plain": [
       "<Figure size 640x480 with 1 Axes>"
      ]
     },
     "metadata": {},
     "output_type": "display_data"
    }
   ],
   "source": [
    "epochs = range(1, len(history.history['accuracy']) + 1)\n",
    "plt.plot(epochs, history.history['loss'])\n",
    "plt.plot(epochs, history.history['val_loss'])\n",
    "plt.title('model loss')\n",
    "plt.ylabel('loss')\n",
    "plt.xlabel('epoch')\n",
    "plt.legend(['train', 'test'], loc='upper left')\n",
    "plt.show()"
   ]
  },
  {
   "cell_type": "code",
   "execution_count": 48,
   "id": "886a380c",
   "metadata": {
    "scrolled": false
   },
   "outputs": [
    {
     "name": "stdout",
     "output_type": "stream",
     "text": [
      "WARNING:tensorflow:The parameters `output_attentions`, `output_hidden_states` and `use_cache` cannot be updated when calling a model.They have to be set to True/False in the config object (i.e.: `config=XConfig.from_pretrained('name', output_attentions=True)`).\n",
      "WARNING:tensorflow:The parameter `return_dict` cannot be set in graph mode and will always be set to `True`.\n",
      "97/97 [==============================] - 94s 962ms/step\n"
     ]
    }
   ],
   "source": [
    "predict = history.model.predict(X_test)"
   ]
  },
  {
   "cell_type": "code",
   "execution_count": 49,
   "id": "51867017",
   "metadata": {},
   "outputs": [],
   "source": [
    "y_predicted = np.argmax(predict, axis=-1)"
   ]
  },
  {
   "cell_type": "code",
   "execution_count": 52,
   "id": "2a4b3661",
   "metadata": {},
   "outputs": [],
   "source": [
    "test = test_dataset"
   ]
  },
  {
   "cell_type": "code",
   "execution_count": 53,
   "id": "77ee2098",
   "metadata": {},
   "outputs": [],
   "source": [
    "test[\"category\"] = y_predicted\n",
    "\n",
    "labels = ['경제','사회','생활','스포츠','연예/문화','정치']\n",
    "num = 0\n",
    "for label in labels:\n",
    "    test['category'].replace(num, label, inplace=True)\n",
    "    num += 1\n",
    "test.groupby('category').size().reset_index(name = 'count')\n",
    "\n",
    "submission = pd.DataFrame({\n",
    "    'ID' : test['ID'],\n",
    "    'text' : test['text'],\n",
    "    'category' : test['category']\n",
    "})\n",
    "\n",
    "submission.to_csv('submission3.csv', index=False)"
   ]
  }
 ],
 "metadata": {
  "kernelspec": {
   "display_name": "Python 3 (ipykernel)",
   "language": "python",
   "name": "python3"
  },
  "language_info": {
   "codemirror_mode": {
    "name": "ipython",
    "version": 3
   },
   "file_extension": ".py",
   "mimetype": "text/x-python",
   "name": "python",
   "nbconvert_exporter": "python",
   "pygments_lexer": "ipython3",
   "version": "3.9.13"
  }
 },
 "nbformat": 4,
 "nbformat_minor": 5
}
